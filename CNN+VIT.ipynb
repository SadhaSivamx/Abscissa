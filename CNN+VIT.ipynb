{
  "nbformat": 4,
  "nbformat_minor": 0,
  "metadata": {
    "colab": {
      "provenance": [],
      "gpuType": "T4"
    },
    "kernelspec": {
      "name": "python3",
      "display_name": "Python 3"
    },
    "language_info": {
      "name": "python"
    },
    "accelerator": "GPU"
  },
  "cells": [
    {
      "cell_type": "markdown",
      "source": [
        "### Installation of Dataset"
      ],
      "metadata": {
        "id": "lgiELuGMARY3"
      }
    },
    {
      "cell_type": "code",
      "execution_count": 1,
      "metadata": {
        "id": "P7xCRl1i6_aD",
        "colab": {
          "base_uri": "https://localhost:8080/"
        },
        "outputId": "5a604178-9bbf-4f81-f22b-4f1ecdb4e34c"
      },
      "outputs": [
        {
          "output_type": "stream",
          "name": "stdout",
          "text": [
            "Downloading...\n",
            "From (original): https://drive.google.com/uc?id=1-lySFdjCJi7Pl9Nz4KSM6SIqLPTCnNTq\n",
            "From (redirected): https://drive.google.com/uc?id=1-lySFdjCJi7Pl9Nz4KSM6SIqLPTCnNTq&confirm=t&uuid=fe2ebf0f-1a8e-4656-a3d7-28d689cc0e18\n",
            "To: /content/Guestures.zip\n",
            "100% 15.0M/15.0M [00:00<00:00, 30.6MB/s]\n"
          ]
        }
      ],
      "source": [
        "!gdown 1-lySFdjCJi7Pl9Nz4KSM6SIqLPTCnNTq"
      ]
    },
    {
      "cell_type": "code",
      "source": [
        "!unzip Guestures.zip"
      ],
      "metadata": {
        "id": "R3z79FKKAXPE"
      },
      "execution_count": null,
      "outputs": []
    },
    {
      "cell_type": "markdown",
      "source": [
        "### DatasetPrep"
      ],
      "metadata": {
        "id": "rXjtn7LfA3VO"
      }
    },
    {
      "cell_type": "code",
      "source": [
        "import tensorflow as tf\n",
        "from tensorflow import keras\n",
        "from tensorflow.keras import layers\n",
        "import numpy as np\n",
        "import os\n",
        "import cv2\n",
        "from sklearn.model_selection import train_test_split"
      ],
      "metadata": {
        "id": "Rr33QPpSkrYR"
      },
      "execution_count": 4,
      "outputs": []
    },
    {
      "cell_type": "code",
      "source": [
        "# Parameters\n",
        "IMG_SIZE = (50, 50)\n",
        "PATCH_SIZE = 16\n",
        "EMBED_DIM = 64\n",
        "NUM_HEADS = 4\n",
        "FF_DIM = 128\n",
        "NUM_LAYERS = 4\n",
        "NUM_CLASSES = 6\n",
        "BATCH_SIZE = 32\n",
        "EPOCHS = 5"
      ],
      "metadata": {
        "id": "-gLwc-Q-kxQP"
      },
      "execution_count": 10,
      "outputs": []
    },
    {
      "cell_type": "code",
      "source": [
        "# Load dataset\n",
        "def load_data(data_dir):\n",
        "    images, labels = [], []\n",
        "    class_names = sorted(os.listdir(data_dir))\n",
        "    for label, class_name in enumerate(class_names):\n",
        "        class_path = os.path.join(data_dir, class_name)\n",
        "        for img_name in os.listdir(class_path):\n",
        "            img_path = os.path.join(class_path, img_name)\n",
        "            img = cv2.imread(img_path, cv2.IMREAD_GRAYSCALE)\n",
        "            img = cv2.resize(img, IMG_SIZE)\n",
        "            images.append(img)\n",
        "            labels.append(label)\n",
        "\n",
        "    images = np.array(images, dtype=np.float32) / 255.0\n",
        "    images = np.expand_dims(images, axis=-1)\n",
        "    labels = keras.utils.to_categorical(labels, NUM_CLASSES)\n",
        "    return train_test_split(images, labels, test_size=0.2, random_state=42)\n",
        "\n",
        "data_dir = \"/content/Guestures\"\n",
        "X_train, X_test, y_train, y_test = load_data(data_dir)"
      ],
      "metadata": {
        "id": "Zsr68D0nkc0I"
      },
      "execution_count": 7,
      "outputs": []
    },
    {
      "cell_type": "code",
      "source": [
        "\n",
        "# CNN Feature Extractor\n",
        "def cnn_feature_extractor():\n",
        "    model = keras.Sequential([\n",
        "        layers.Conv2D(32, (3, 3), activation='relu', padding='same'),\n",
        "        layers.MaxPooling2D((2, 2)),\n",
        "        layers.Conv2D(64, (3, 3), activation='relu', padding='same'),\n",
        "        layers.MaxPooling2D((2, 2)),\n",
        "        layers.Conv2D(128, (3, 3), activation='relu', padding='same'),\n",
        "        layers.MaxPooling2D((2, 2)),\n",
        "        layers.Flatten()\n",
        "    ])\n",
        "    return model\n",
        "\n",
        "# Vision Transformer Encoder Layer\n",
        "def transformer_block(inputs):\n",
        "    x = layers.LayerNormalization()(inputs)\n",
        "    x = layers.MultiHeadAttention(num_heads=NUM_HEADS, key_dim=EMBED_DIM)(x, x)\n",
        "    x = layers.Add()([x, inputs])\n",
        "    x = layers.LayerNormalization()(x)\n",
        "    x = layers.Dense(FF_DIM, activation='relu')(x)\n",
        "    x = layers.Dense(EMBED_DIM)(x)\n",
        "    x = layers.Add()([x, inputs])\n",
        "    return x\n",
        "\n",
        "# Vision Transformer Model\n",
        "def vit_classifier(input_shape):\n",
        "    inputs = keras.Input(shape=input_shape)\n",
        "\n",
        "    # CNN Feature Extraction\n",
        "    cnn_model = cnn_feature_extractor()\n",
        "    x = cnn_model(inputs)\n",
        "\n",
        "    num_patches = 4608 // PATCH_SIZE\n",
        "    x = layers.Reshape((num_patches, PATCH_SIZE))(x)\n",
        "    x = layers.Dense(EMBED_DIM)(x)\n",
        "\n",
        "    # Transformer Layers\n",
        "    for _ in range(NUM_LAYERS):\n",
        "        x = transformer_block(x)\n",
        "\n",
        "    # Classification Head\n",
        "    x = layers.GlobalAveragePooling1D()(x)\n",
        "    x = layers.Dense(64, activation='relu')(x)\n",
        "    outputs = layers.Dense(NUM_CLASSES, activation='softmax')(x)\n",
        "\n",
        "    return keras.Model(inputs, outputs)"
      ],
      "metadata": {
        "id": "lZPqTRnYk9eW"
      },
      "execution_count": 13,
      "outputs": []
    },
    {
      "cell_type": "code",
      "source": [
        "# Build model\n",
        "model = vit_classifier((50, 50, 1))\n",
        "model.compile(optimizer='adam', loss='categorical_crossentropy', metrics=['accuracy'])\n",
        "\n",
        "# Train model\n",
        "history=model.fit(X_train, y_train, batch_size=BATCH_SIZE, epochs=EPOCHS, validation_data=(X_test, y_test))"
      ],
      "metadata": {
        "colab": {
          "base_uri": "https://localhost:8080/"
        },
        "id": "6CCCC0GjCkoU",
        "outputId": "7ef4159f-7910-493f-ad43-47f2bc89267d"
      },
      "execution_count": 38,
      "outputs": [
        {
          "output_type": "stream",
          "name": "stdout",
          "text": [
            "Epoch 1/5\n",
            "\u001b[1m225/225\u001b[0m \u001b[32m━━━━━━━━━━━━━━━━━━━━\u001b[0m\u001b[37m\u001b[0m \u001b[1m30s\u001b[0m 52ms/step - accuracy: 0.2832 - loss: 1.6795 - val_accuracy: 0.8689 - val_loss: 0.3213\n",
            "Epoch 2/5\n",
            "\u001b[1m225/225\u001b[0m \u001b[32m━━━━━━━━━━━━━━━━━━━━\u001b[0m\u001b[37m\u001b[0m \u001b[1m12s\u001b[0m 43ms/step - accuracy: 0.9380 - loss: 0.1605 - val_accuracy: 0.9994 - val_loss: 0.0035\n",
            "Epoch 3/5\n",
            "\u001b[1m225/225\u001b[0m \u001b[32m━━━━━━━━━━━━━━━━━━━━\u001b[0m\u001b[37m\u001b[0m \u001b[1m10s\u001b[0m 44ms/step - accuracy: 0.9994 - loss: 0.0026 - val_accuracy: 0.9994 - val_loss: 0.0014\n",
            "Epoch 4/5\n",
            "\u001b[1m225/225\u001b[0m \u001b[32m━━━━━━━━━━━━━━━━━━━━\u001b[0m\u001b[37m\u001b[0m \u001b[1m10s\u001b[0m 43ms/step - accuracy: 1.0000 - loss: 4.6526e-04 - val_accuracy: 1.0000 - val_loss: 5.0058e-04\n",
            "Epoch 5/5\n",
            "\u001b[1m225/225\u001b[0m \u001b[32m━━━━━━━━━━━━━━━━━━━━\u001b[0m\u001b[37m\u001b[0m \u001b[1m10s\u001b[0m 42ms/step - accuracy: 1.0000 - loss: 1.2037e-04 - val_accuracy: 1.0000 - val_loss: 1.2701e-04\n"
          ]
        }
      ]
    },
    {
      "cell_type": "code",
      "source": [
        "# Evaluate model\n",
        "test_loss, test_acc = model.evaluate(X_test, y_test)\n",
        "print(f\"Test Accuracy: {test_acc:.4f}\")"
      ],
      "metadata": {
        "colab": {
          "base_uri": "https://localhost:8080/"
        },
        "id": "XMAYOIQqlwQl",
        "outputId": "4d728f0c-b904-452f-e81b-5de0706004cb"
      },
      "execution_count": 16,
      "outputs": [
        {
          "output_type": "stream",
          "name": "stdout",
          "text": [
            "\u001b[1m57/57\u001b[0m \u001b[32m━━━━━━━━━━━━━━━━━━━━\u001b[0m\u001b[37m\u001b[0m \u001b[1m1s\u001b[0m 13ms/step - accuracy: 1.0000 - loss: 2.2982e-04\n",
            "Test Accuracy: 1.0000\n"
          ]
        }
      ]
    },
    {
      "cell_type": "code",
      "source": [
        "import matplotlib.pyplot as plt\n",
        "\n",
        "results=[\"Close\",\"Down\",\"Left\",\"Open\",\"Right\",\"Up\"]\n",
        "def PredictMe(image):\n",
        "  img=cv2.imread(image,0)\n",
        "  img=cv2.resize(img,(50,50))\n",
        "  img=img/255\n",
        "  img=np.expand_dims(img, axis=0)\n",
        "  ans=model.predict(img)[0]\n",
        "  conf=round(max(ans)*100,2)\n",
        "  result=np.argmax(ans)\n",
        "  predicted=results[result]\n",
        "  plt.subplot(1,1,1)\n",
        "  plt.imshow(img[0])\n",
        "  plt.title(predicted+f\" - Conf {conf}\")\n",
        "  plt.show()\n",
        "PredictMe(\"/content/Guestures/Down/1.jpg\")"
      ],
      "metadata": {
        "colab": {
          "base_uri": "https://localhost:8080/",
          "height": 470
        },
        "id": "gmvjfewsmMGN",
        "outputId": "b51055a3-37e0-4904-9740-f0d004334c15"
      },
      "execution_count": 35,
      "outputs": [
        {
          "output_type": "stream",
          "name": "stdout",
          "text": [
            "\u001b[1m1/1\u001b[0m \u001b[32m━━━━━━━━━━━━━━━━━━━━\u001b[0m\u001b[37m\u001b[0m \u001b[1m0s\u001b[0m 31ms/step\n"
          ]
        },
        {
          "output_type": "display_data",
          "data": {
            "text/plain": [
              "<Figure size 640x480 with 1 Axes>"
            ],
            "image/png": "[encoded data removed]"
          },
          "metadata": {}
        }
      ]
    },
    {
      "cell_type": "code",
      "source": [
        "plt.plot(range(1,6),history.history['accuracy'])\n",
        "plt.title('model accuracy')\n",
        "plt.ylabel('accuracy')\n",
        "plt.xlabel('epoch')\n",
        "plt.show()"
      ],
      "metadata": {
        "colab": {
          "base_uri": "https://localhost:8080/",
          "height": 472
        },
        "id": "xw50FE8bpdQn",
        "outputId": "32ef8ce6-e247-4270-a2a9-d57ae56b72e1"
      },
      "execution_count": 44,
      "outputs": [
        {
          "output_type": "display_data",
          "data": {
            "text/plain": [
              "<Figure size 640x480 with 1 Axes>"
            ],
            "image/png": "[encoded data removed]"
          },
          "metadata": {}
        }
      ]
    },
    {
      "cell_type": "code",
      "source": [
        "model.save(\"Hybrid-Vit.h5\")"
      ],
      "metadata": {
        "id": "CygcLEtysDbw"
      },
      "execution_count": null,
      "outputs": []
    }
  ]
}